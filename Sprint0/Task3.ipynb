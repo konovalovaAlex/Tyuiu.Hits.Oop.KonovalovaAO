{
 "cells": [
  {
   "cell_type": "markdown",
   "metadata": {},
   "source": [
    "<h1 style=\"color:DodgerBlue\">Индивидальный проект</h1>"
   ]
  },
  {
   "cell_type": "markdown",
   "metadata": {},
   "source": [
    "<h2 style=\"color:DodgerBlue\">Название проекта:</h2>\n",
    "\n",
    "----\n",
    "\n",
    "### Вариант задания № 10\n",
    "\n"
   ]
  },
  {
   "cell_type": "markdown",
   "metadata": {},
   "source": [
    "<h2 style=\"color:DodgerBlue\">Описание проекта:</h2>\n",
    "\n",
    "----\n",
    "Создать базовый класс Invoice в C#, который будет представлять информацию о\n",
    "фактурах за поставленные товары или оказанные услуги. На основе этого класса\n",
    "разработать 2-3 производных класса, демонстрирующих принципы наследования и\n",
    "полиморфизма. В каждом из классов должны быть реализованы новые атрибуты и\n",
    "методы, а также переопределены некоторые методы базового класса для демонстрации полиморфизма.\n",
    "\n",
    "<h3>Требования к базовому классу Invoice:</h3>\n",
    "<h4>• Атрибуты:</h4>\n",
    " Номер фактуры (InvoiceNumber), Дата выдачи (IssueDate), Общая\n",
    "сумма (TotalAmount).\n",
    "<h4>• Методы:</h4>\n",
    "CalculateTotal(): метод для расчета общей суммы по фактуре.\n",
    "AddLine(LineItem lineItem): метод для добавления позиции в фактуру.\n",
    "RemoveLine(LineItem lineItem): метод для удаления позиции из фактуры.\n",
    "<h3>Требования к производным классам:</h3>\n",
    " <h5>1.</h5> ТоварнаяФактура (GoodsInvoice): Должна содержать дополнительные\n",
    "атрибуты, такие как Дата поставки (SupplyDate). Метод AddLine() должен\n",
    "быть переопределен для добавления информации о дате поставки товара\n",
    "при добавлении позиции.\n",
    " <h5>2.</h5> УслуговаяФактура (ServiceInvoice): Должна содержать дополнительные\n",
    "атрибуты, такие как Дата оказания услуги (ServiceDate).\n",
    "Метод RemoveLine() должен быть переопределен для добавления\n",
    "информации о причине аннулирования услуги при удалении позиции.\n",
    " <h5>3.</h5> КомбинированнаяФактура (CombinedInvoice) (если требуется третий класс):\n",
    "Должна содержать дополнительные атрибуты, такие как Наличие возврата\n",
    "(ReturnAllowed). Метод CalculateTotal() должен быть переопределен для\n",
    "учета возможного возврата товара или услуги при расчете общей суммы.\n"
   ]
  },
  {
   "cell_type": "markdown",
   "metadata": {},
   "source": [
    "<h2 style=\"color:DodgerBlue\">Реализация:</h2>\n",
    "\n",
    "----"
   ]
  },
  {
   "cell_type": "code",
   "execution_count": 2,
   "metadata": {
    "dotnet_interactive": {
     "language": "csharp"
    },
    "polyglot_notebook": {
     "kernelName": "csharp"
    }
   },
   "outputs": [],
   "source": []
  }
 ],
 "metadata": {
  "kernelspec": {
   "display_name": ".NET (C#)",
   "language": "C#",
   "name": ".net-csharp"
  },
  "polyglot_notebook": {
   "kernelInfo": {
    "defaultKernelName": "csharp",
    "items": [
     {
      "aliases": [],
      "languageName": "csharp",
      "name": "csharp"
     }
    ]
   }
  }
 },
 "nbformat": 4,
 "nbformat_minor": 2
}
