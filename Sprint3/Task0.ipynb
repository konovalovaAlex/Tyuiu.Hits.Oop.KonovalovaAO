{
 "cells": [
  {
   "cell_type": "markdown",
   "metadata": {},
   "source": [
    "<h1 style=\"color:DodgerBlue\">Понятие полиморфизма</h1>\n",
    "\n",
    "### Понятие полиморфизма в C# с параметрами\n",
    "\n",
    "Полиморфизм в объектно-ориентированном программировании позволяет объектам разных классов обрабатывать одни и те же сообщения по-разному. В C#, полиморфизм часто реализуется через наследование и переопределение методов. Давайте рассмотрим пример с классами `Vehicle`, `Car` и `Motorcycle`, чтобы продемонстрировать, как полиморфизм работает с параметрами.\n",
    "\n",
    "#### Определение классов\n",
    "\n",
    "Сначала определим базовый класс `Vehicle` с виртуальным методом `Drive()`, который принимает параметры. Затем создадим два производных класса: `Car` и `Motorcycle`, которые переопределят этот метод.\n",
    "\n",
    "```csharp\n",
    "// Базовый класс Vehicle с виртуальным методом Drive(), принимающим параметры\n",
    "public class Vehicle\n",
    "{\n",
    "    public virtual void Drive(int speed)\n",
    "    {\n",
    "        Console.WriteLine($\"Транспорт движется {speed} km/h.\");\n",
    "    }\n",
    "}\n",
    "\n",
    "// Производный класс Car, переопределяющий метод Drive()\n",
    "public class Car : Vehicle\n",
    "{\n",
    "    public override void Drive(int speed)\n",
    "    {\n",
    "        Console.WriteLine($\"Автомобиль движется {speed} km/h.\");\n",
    "    }\n",
    "}\n",
    "\n",
    "// Производный класс Motorcycle, также переопределяющий метод Drive()\n",
    "public class Motorcycle : Vehicle\n",
    "{\n",
    "    public override void Drive(int speed)\n",
    "    {\n",
    "        Console.WriteLine($\"Мотоцикл движется {speed} km/h.\");\n",
    "    }\n",
    "}\n",
    "```\n",
    "\n",
    "#### Использование полиморфизма\n",
    "\n",
    "Теперь создадим список объектов типа `Vehicle` и добавим в него экземпляры `Car` и `Motorcycle`. Затем вызовем метод `Drive()` для каждого элемента списка, передавая разные скорости. Это демонстрирует, как полиморфизм позволяет нам работать с объектами разных типов через общий интерфейс, но при этом выполнять различные действия в зависимости от \"реального\" типа объекта.\n",
    "\n",
    "```csharp\n",
    "List<Vehicle> vehicles = new List<Vehicle>\n",
    "{\n",
    "    new Car(),\n",
    "    new Motorcycle(),\n",
    "    new Vehicle() // Добавляем экземпляр базового класса для демонстрации\n",
    "};\n",
    "\n",
    "foreach (var vehicle in vehicles)\n",
    "{\n",
    "    vehicle.Drive(100); // Вызываем метод Drive() \n",
    "}\n",
    "\n",
    "```\n",
    "\n",
    "В результате выполнения этого кода, каждый объект в списке вызывает свою версию метода `Drive()`, демонстрируя, что при работе с объектами через базовый класс (`Vehicle`) можно достичь различных действий в зависимости от \"реального\" типа объекта, даже когда используются разные скорости.\n",
    "\n",
    "Этот пример иллюстрирует ключевое понятие полиморфизма в ООП: возможность работы с объектами разных типов через общий интерфейс или базовый класс, что позволяет писать более гибкий и расширяемый код."
   ]
  },
  {
   "cell_type": "markdown",
   "metadata": {},
   "source": [
    "<h4 style=\"color:DodgerBlue\">Для проверки напишите пример кода на основе классов Vehicle, Car и Motorcycle ниже в блоке:</h4>\n",
    "\n",
    "----"
   ]
  },
  {
   "cell_type": "code",
   "execution_count": 2,
   "metadata": {
    "dotnet_interactive": {
     "language": "csharp"
    },
    "polyglot_notebook": {
     "kernelName": "csharp"
    }
   },
   "outputs": [
    {
     "name": "stdout",
     "output_type": "stream",
     "text": [
      "Производитель: Kia, Модель: Rio\n",
      "Двери: 4\n",
      "Производитель: Honda, Модель: CBR600RR\n",
      "Вид двигателя: Inline Four\n"
     ]
    }
   ],
   "source": [
    "public class Vehicle\n",
    "{\n",
    "    public string Make { get; set; }\n",
    "\n",
    "    public string Model { get; set; }\n",
    "\n",
    "    public Vehicle(string make, string model)\n",
    "    {\n",
    "        Make = make;\n",
    "        Model = model;\n",
    "    }\n",
    "\n",
    "    public virtual void DisplayInfo()\n",
    "    {\n",
    "        Console.WriteLine($\"Производитель: {Make}, Модель: {Model}\");\n",
    "    }\n",
    "}\n",
    "\n",
    "\n",
    "public class Car : Vehicle\n",
    "{\n",
    "    public int Doors { get; set; }\n",
    "\n",
    "    public Car(string make, string model, int doors) : base(make, model)\n",
    "    {\n",
    "        Doors = doors;\n",
    "    }\n",
    "\n",
    "    public override void DisplayInfo()\n",
    "    {\n",
    "        base.DisplayInfo();\n",
    "        Console.WriteLine($\"Двери: {Doors}\");\n",
    "    }\n",
    "}\n",
    "\n",
    "\n",
    "public class Motorcycle : Vehicle\n",
    "{\n",
    "    public string EngineType { get; set; }\n",
    "\n",
    "    public Motorcycle(string make, string model, string engineType) : base(make, model)\n",
    "    {\n",
    "        EngineType = engineType;\n",
    "    }\n",
    "\n",
    "    public override void DisplayInfo()\n",
    "    {\n",
    "        base.DisplayInfo();\n",
    "        Console.WriteLine($\"Вид двигателя: {EngineType}\");\n",
    "    }\n",
    "}\n",
    "\n",
    "\n",
    "Car myCar = new Car(\"Kia\", \"Rio\", 4);\n",
    "myCar.DisplayInfo();\n",
    "\n",
    "Motorcycle myMotorcycle = new Motorcycle(\"Honda\", \"CBR600RR\", \"Inline Four\");\n",
    "myMotorcycle.DisplayInfo();"
   ]
  },
  {
   "cell_type": "markdown",
   "metadata": {},
   "source": [
    "<h4 style=\"color:Red\">Задание:</h4>\n",
    "\n",
    "----\n",
    "\n",
    "Ниже в блоке по примеру создайте базовый класс Animal и производные классы (3-4 например Dog, Cat, Bird и так далее) реализуйте структуру и объявление класса, включая свойства, геттеры и сеттеры, а также механизм полиморфизм."
   ]
  },
  {
   "cell_type": "code",
   "execution_count": 7,
   "metadata": {
    "dotnet_interactive": {
     "language": "csharp"
    },
    "polyglot_notebook": {
     "kernelName": "csharp"
    }
   },
   "outputs": [
    {
     "name": "stdout",
     "output_type": "stream",
     "text": [
      "Вид: Лиса, Звук: Фыр-фыр\n",
      "Цвет: рыжий\n",
      "Вид: Кошка, Звук: Мяу\n",
      "Кошка ленивая\n",
      "Вид: Птица, Звук: Чирик\n",
      "Цвет перьев: синий\n"
     ]
    }
   ],
   "source": [
    "public class Animal\n",
    "{\n",
    "    public string Species { get; set; }\n",
    "    public string Sound { get; set; }\n",
    "\n",
    "    public Animal(string species, string sound)\n",
    "    {\n",
    "        Species = species;\n",
    "        Sound = sound;\n",
    "    }\n",
    "\n",
    "    public virtual void DisplayInfo()\n",
    "    {\n",
    "        Console.WriteLine($\"Вид: {Species}, Звук: {Sound}\");\n",
    "    }\n",
    "}\n",
    "\n",
    "public class Fox : Animal\n",
    "{\n",
    "    public string Color { get; set; }\n",
    "\n",
    "    public Fox(string species, string sound, string color) : base(species, sound)\n",
    "    {\n",
    "        Color = color;\n",
    "    }\n",
    "\n",
    "    public override void DisplayInfo()\n",
    "    {\n",
    "        base.DisplayInfo();\n",
    "        Console.WriteLine($\"Цвет: {Color}\");\n",
    "    }\n",
    "}\n",
    "\n",
    "public class Cat : Animal\n",
    "{\n",
    "    public bool IsLazy { get; set; }\n",
    "\n",
    "    public Cat(string species, string sound, bool isLazy) : base(species, sound)\n",
    "    {\n",
    "        IsLazy = isLazy;\n",
    "    }\n",
    "\n",
    "    public override void DisplayInfo()\n",
    "    {\n",
    "        base.DisplayInfo();\n",
    "        if (IsLazy)\n",
    "        {\n",
    "            Console.WriteLine(\"Кошка ленивая\");\n",
    "        }\n",
    "        else\n",
    "        {\n",
    "            Console.WriteLine(\"Кошка активная\");\n",
    "        }\n",
    "    }\n",
    "}\n",
    "\n",
    "public class Bird : Animal\n",
    "{\n",
    "    public string FeatherColor { get; set; }\n",
    "\n",
    "    public Bird(string species, string sound, string featherColor) : base(species, sound)\n",
    "    {\n",
    "        FeatherColor = featherColor;\n",
    "    }\n",
    "\n",
    "    public override void DisplayInfo()\n",
    "    {\n",
    "        base.DisplayInfo();\n",
    "        Console.WriteLine($\"Цвет перьев: {FeatherColor}\");\n",
    "    }\n",
    "}\n",
    "\n",
    "\n",
    "var myFox = new Fox(\"Лиса\", \"Фыр-фыр\", \"рыжий\");\n",
    "myFox.DisplayInfo();\n",
    "\n",
    "var myCat = new Cat(\"Кошка\", \"Мяу\", true);\n",
    "myCat.DisplayInfo();\n",
    "\n",
    "var myBird = new Bird(\"Птица\", \"Чирик\", \"синий\");\n",
    "myBird.DisplayInfo();"
   ]
  }
 ],
 "metadata": {
  "kernelspec": {
   "display_name": ".NET (C#)",
   "language": "C#",
   "name": ".net-csharp"
  },
  "polyglot_notebook": {
   "kernelInfo": {
    "defaultKernelName": "csharp",
    "items": [
     {
      "aliases": [],
      "languageName": "csharp",
      "name": "csharp"
     }
    ]
   }
  }
 },
 "nbformat": 4,
 "nbformat_minor": 2
}
